{
 "cells": [
  {
   "cell_type": "code",
   "execution_count": 222,
   "metadata": {},
   "outputs": [],
   "source": [
    "def grid(A):\n",
    "    # choosing A\n",
    "    third = int(A/3)+1\n",
    "\n",
    "    nums = list(range(1,A))\n",
    "    valids = 0\n",
    "\n",
    "    # running through the combinations\n",
    "    for g in itertools.permutations(nums, 4):\n",
    "        # generating guess list\n",
    "        guesses = {k:0 for k in range(1,A)}\n",
    "        \n",
    "        # creating matrix \n",
    "        M = np.zeros((3,3))\n",
    "        \n",
    "        # assigning the corners\n",
    "        M[0,0] = g[0]\n",
    "        M[0,2] = g[1]\n",
    "        M[2,0] = g[2]\n",
    "        M[2,2] = g[3]\n",
    "\n",
    "        # checking center rows\n",
    "        # ensuring the center values agree\n",
    "        cl = int(A - (M[0,0]+M[2,2])) \n",
    "        cr = int(A - (M[0,2]+M[2,0])) \n",
    "        # if c is within range and has not been assigned\n",
    "        if cr == cl and cl in guesses.keys() and guesses[cl] == 0:\n",
    "            M[1,1] = cl\n",
    "            guesses[cl] = 1\n",
    "        else: continue # otherwise the solution is invalid and the program continues looking for a solution\n",
    "\n",
    "        # checking top/bottom rows\n",
    "        t = int(A - (M[0,0]+M[0,2])) # top\n",
    "        if t in guesses.keys() and guesses[t] == 0:\n",
    "            M[0,1] = t\n",
    "            guesses[t] = 1\n",
    "        else: continue\n",
    "        \n",
    "        b = int(A - (M[2,0]+M[2,2])) # bottom\n",
    "        if b in guesses.keys() and guesses[b] == 0:\n",
    "            M[2,1] = b\n",
    "            guesses[b] = 1\n",
    "        else: continue\n",
    "\n",
    "        # checking left/right\n",
    "        l = int(A - (M[0,0]+M[2,0])) # left\n",
    "        if l in guesses.keys() and guesses[l] == 0:\n",
    "            M[1,0] = l\n",
    "            guesses[l] = 1\n",
    "        else: continue\n",
    "\n",
    "        r = int(A - (M[0,2]+M[2,2])) # right\n",
    "        if r in guesses.keys() and guesses[r] == 0:\n",
    "            M[1,2] = r\n",
    "            guesses[r] = 1\n",
    "        else: continue\n",
    "        # print(M)\n",
    "\n",
    "        # checking the centre-cross\n",
    "        tbsum = M[:,1].sum()\n",
    "        if tbsum not in list(range(A-1,A+2)): continue\n",
    "\n",
    "        lrsum = M[1,:].sum()\n",
    "        if lrsum not in list(range(A-1,A+2)): continue\n",
    "\n",
    "        valids += 1\n",
    "        display(M)\n",
    "    # 96 total range"
   ]
  },
  {
   "cell_type": "code",
   "execution_count": 223,
   "metadata": {},
   "outputs": [
    {
     "data": {
      "text/plain": [
       "array([[ 2., 17.,  8.],\n",
       "       [15.,  9.,  3.],\n",
       "       [10.,  1., 16.]])"
      ]
     },
     "metadata": {},
     "output_type": "display_data"
    },
    {
     "data": {
      "text/plain": [
       "array([[ 2., 15., 10.],\n",
       "       [17.,  9.,  1.],\n",
       "       [ 8.,  3., 16.]])"
      ]
     },
     "metadata": {},
     "output_type": "display_data"
    },
    {
     "data": {
      "text/plain": [
       "array([[ 3., 17.,  7.],\n",
       "       [13.,  9.,  5.],\n",
       "       [11.,  1., 15.]])"
      ]
     },
     "metadata": {},
     "output_type": "display_data"
    },
    {
     "data": {
      "text/plain": [
       "array([[ 3., 16.,  8.],\n",
       "       [14.,  9.,  4.],\n",
       "       [10.,  2., 15.]])"
      ]
     },
     "metadata": {},
     "output_type": "display_data"
    },
    {
     "data": {
      "text/plain": [
       "array([[ 3., 14., 10.],\n",
       "       [16.,  9.,  2.],\n",
       "       [ 8.,  4., 15.]])"
      ]
     },
     "metadata": {},
     "output_type": "display_data"
    },
    {
     "data": {
      "text/plain": [
       "array([[ 3., 13., 11.],\n",
       "       [17.,  9.,  1.],\n",
       "       [ 7.,  5., 15.]])"
      ]
     },
     "metadata": {},
     "output_type": "display_data"
    },
    {
     "data": {
      "text/plain": [
       "array([[ 4., 17.,  6.],\n",
       "       [11.,  9.,  7.],\n",
       "       [12.,  1., 14.]])"
      ]
     },
     "metadata": {},
     "output_type": "display_data"
    },
    {
     "data": {
      "text/plain": [
       "array([[ 4., 16.,  7.],\n",
       "       [12.,  9.,  6.],\n",
       "       [11.,  2., 14.]])"
      ]
     },
     "metadata": {},
     "output_type": "display_data"
    },
    {
     "data": {
      "text/plain": [
       "array([[ 4., 15.,  8.],\n",
       "       [13.,  9.,  5.],\n",
       "       [10.,  3., 14.]])"
      ]
     },
     "metadata": {},
     "output_type": "display_data"
    },
    {
     "data": {
      "text/plain": [
       "array([[ 4., 13., 10.],\n",
       "       [15.,  9.,  3.],\n",
       "       [ 8.,  5., 14.]])"
      ]
     },
     "metadata": {},
     "output_type": "display_data"
    },
    {
     "data": {
      "text/plain": [
       "array([[ 4., 12., 11.],\n",
       "       [16.,  9.,  2.],\n",
       "       [ 7.,  6., 14.]])"
      ]
     },
     "metadata": {},
     "output_type": "display_data"
    },
    {
     "data": {
      "text/plain": [
       "array([[ 4., 11., 12.],\n",
       "       [17.,  9.,  1.],\n",
       "       [ 6.,  7., 14.]])"
      ]
     },
     "metadata": {},
     "output_type": "display_data"
    },
    {
     "data": {
      "text/plain": [
       "array([[ 5., 16.,  6.],\n",
       "       [10.,  9.,  8.],\n",
       "       [12.,  2., 13.]])"
      ]
     },
     "metadata": {},
     "output_type": "display_data"
    },
    {
     "data": {
      "text/plain": [
       "array([[ 5., 15.,  7.],\n",
       "       [11.,  9.,  7.],\n",
       "       [11.,  3., 13.]])"
      ]
     },
     "metadata": {},
     "output_type": "display_data"
    },
    {
     "data": {
      "text/plain": [
       "array([[ 5., 14.,  8.],\n",
       "       [12.,  9.,  6.],\n",
       "       [10.,  4., 13.]])"
      ]
     },
     "metadata": {},
     "output_type": "display_data"
    },
    {
     "data": {
      "text/plain": [
       "array([[ 5., 12., 10.],\n",
       "       [14.,  9.,  4.],\n",
       "       [ 8.,  6., 13.]])"
      ]
     },
     "metadata": {},
     "output_type": "display_data"
    },
    {
     "data": {
      "text/plain": [
       "array([[ 5., 11., 11.],\n",
       "       [15.,  9.,  3.],\n",
       "       [ 7.,  7., 13.]])"
      ]
     },
     "metadata": {},
     "output_type": "display_data"
    },
    {
     "data": {
      "text/plain": [
       "array([[ 5., 10., 12.],\n",
       "       [16.,  9.,  2.],\n",
       "       [ 6.,  8., 13.]])"
      ]
     },
     "metadata": {},
     "output_type": "display_data"
    },
    {
     "data": {
      "text/plain": [
       "array([[ 6., 17.,  4.],\n",
       "       [ 7.,  9., 11.],\n",
       "       [14.,  1., 12.]])"
      ]
     },
     "metadata": {},
     "output_type": "display_data"
    },
    {
     "data": {
      "text/plain": [
       "array([[ 6., 16.,  5.],\n",
       "       [ 8.,  9., 10.],\n",
       "       [13.,  2., 12.]])"
      ]
     },
     "metadata": {},
     "output_type": "display_data"
    },
    {
     "data": {
      "text/plain": [
       "array([[ 6., 14.,  7.],\n",
       "       [10.,  9.,  8.],\n",
       "       [11.,  4., 12.]])"
      ]
     },
     "metadata": {},
     "output_type": "display_data"
    },
    {
     "data": {
      "text/plain": [
       "array([[ 6., 13.,  8.],\n",
       "       [11.,  9.,  7.],\n",
       "       [10.,  5., 12.]])"
      ]
     },
     "metadata": {},
     "output_type": "display_data"
    },
    {
     "data": {
      "text/plain": [
       "array([[ 6., 11., 10.],\n",
       "       [13.,  9.,  5.],\n",
       "       [ 8.,  7., 12.]])"
      ]
     },
     "metadata": {},
     "output_type": "display_data"
    },
    {
     "data": {
      "text/plain": [
       "array([[ 6., 10., 11.],\n",
       "       [14.,  9.,  4.],\n",
       "       [ 7.,  8., 12.]])"
      ]
     },
     "metadata": {},
     "output_type": "display_data"
    },
    {
     "data": {
      "text/plain": [
       "array([[ 6.,  8., 13.],\n",
       "       [16.,  9.,  2.],\n",
       "       [ 5., 10., 12.]])"
      ]
     },
     "metadata": {},
     "output_type": "display_data"
    },
    {
     "data": {
      "text/plain": [
       "array([[ 6.,  7., 14.],\n",
       "       [17.,  9.,  1.],\n",
       "       [ 4., 11., 12.]])"
      ]
     },
     "metadata": {},
     "output_type": "display_data"
    },
    {
     "data": {
      "text/plain": [
       "array([[ 7., 17.,  3.],\n",
       "       [ 5.,  9., 13.],\n",
       "       [15.,  1., 11.]])"
      ]
     },
     "metadata": {},
     "output_type": "display_data"
    },
    {
     "data": {
      "text/plain": [
       "array([[ 7., 16.,  4.],\n",
       "       [ 6.,  9., 12.],\n",
       "       [14.,  2., 11.]])"
      ]
     },
     "metadata": {},
     "output_type": "display_data"
    },
    {
     "data": {
      "text/plain": [
       "array([[ 7., 15.,  5.],\n",
       "       [ 7.,  9., 11.],\n",
       "       [13.,  3., 11.]])"
      ]
     },
     "metadata": {},
     "output_type": "display_data"
    },
    {
     "data": {
      "text/plain": [
       "array([[ 7., 14.,  6.],\n",
       "       [ 8.,  9., 10.],\n",
       "       [12.,  4., 11.]])"
      ]
     },
     "metadata": {},
     "output_type": "display_data"
    },
    {
     "data": {
      "text/plain": [
       "array([[ 7., 12.,  8.],\n",
       "       [10.,  9.,  8.],\n",
       "       [10.,  6., 11.]])"
      ]
     },
     "metadata": {},
     "output_type": "display_data"
    },
    {
     "data": {
      "text/plain": [
       "array([[ 7., 10., 10.],\n",
       "       [12.,  9.,  6.],\n",
       "       [ 8.,  8., 11.]])"
      ]
     },
     "metadata": {},
     "output_type": "display_data"
    },
    {
     "data": {
      "text/plain": [
       "array([[ 7.,  8., 12.],\n",
       "       [14.,  9.,  4.],\n",
       "       [ 6., 10., 11.]])"
      ]
     },
     "metadata": {},
     "output_type": "display_data"
    },
    {
     "data": {
      "text/plain": [
       "array([[ 7.,  7., 13.],\n",
       "       [15.,  9.,  3.],\n",
       "       [ 5., 11., 11.]])"
      ]
     },
     "metadata": {},
     "output_type": "display_data"
    },
    {
     "data": {
      "text/plain": [
       "array([[ 7.,  6., 14.],\n",
       "       [16.,  9.,  2.],\n",
       "       [ 4., 12., 11.]])"
      ]
     },
     "metadata": {},
     "output_type": "display_data"
    },
    {
     "data": {
      "text/plain": [
       "array([[ 7.,  5., 15.],\n",
       "       [17.,  9.,  1.],\n",
       "       [ 3., 13., 11.]])"
      ]
     },
     "metadata": {},
     "output_type": "display_data"
    },
    {
     "data": {
      "text/plain": [
       "array([[ 8., 17.,  2.],\n",
       "       [ 3.,  9., 15.],\n",
       "       [16.,  1., 10.]])"
      ]
     },
     "metadata": {},
     "output_type": "display_data"
    },
    {
     "data": {
      "text/plain": [
       "array([[ 8., 16.,  3.],\n",
       "       [ 4.,  9., 14.],\n",
       "       [15.,  2., 10.]])"
      ]
     },
     "metadata": {},
     "output_type": "display_data"
    },
    {
     "data": {
      "text/plain": [
       "array([[ 8., 15.,  4.],\n",
       "       [ 5.,  9., 13.],\n",
       "       [14.,  3., 10.]])"
      ]
     },
     "metadata": {},
     "output_type": "display_data"
    },
    {
     "data": {
      "text/plain": [
       "array([[ 8., 14.,  5.],\n",
       "       [ 6.,  9., 12.],\n",
       "       [13.,  4., 10.]])"
      ]
     },
     "metadata": {},
     "output_type": "display_data"
    },
    {
     "data": {
      "text/plain": [
       "array([[ 8., 13.,  6.],\n",
       "       [ 7.,  9., 11.],\n",
       "       [12.,  5., 10.]])"
      ]
     },
     "metadata": {},
     "output_type": "display_data"
    },
    {
     "data": {
      "text/plain": [
       "array([[ 8., 12.,  7.],\n",
       "       [ 8.,  9., 10.],\n",
       "       [11.,  6., 10.]])"
      ]
     },
     "metadata": {},
     "output_type": "display_data"
    },
    {
     "data": {
      "text/plain": [
       "array([[ 8.,  8., 11.],\n",
       "       [12.,  9.,  6.],\n",
       "       [ 7., 10., 10.]])"
      ]
     },
     "metadata": {},
     "output_type": "display_data"
    },
    {
     "data": {
      "text/plain": [
       "array([[ 8.,  7., 12.],\n",
       "       [13.,  9.,  5.],\n",
       "       [ 6., 11., 10.]])"
      ]
     },
     "metadata": {},
     "output_type": "display_data"
    },
    {
     "data": {
      "text/plain": [
       "array([[ 8.,  6., 13.],\n",
       "       [14.,  9.,  4.],\n",
       "       [ 5., 12., 10.]])"
      ]
     },
     "metadata": {},
     "output_type": "display_data"
    },
    {
     "data": {
      "text/plain": [
       "array([[ 8.,  5., 14.],\n",
       "       [15.,  9.,  3.],\n",
       "       [ 4., 13., 10.]])"
      ]
     },
     "metadata": {},
     "output_type": "display_data"
    },
    {
     "data": {
      "text/plain": [
       "array([[ 8.,  4., 15.],\n",
       "       [16.,  9.,  2.],\n",
       "       [ 3., 14., 10.]])"
      ]
     },
     "metadata": {},
     "output_type": "display_data"
    },
    {
     "data": {
      "text/plain": [
       "array([[ 8.,  3., 16.],\n",
       "       [17.,  9.,  1.],\n",
       "       [ 2., 15., 10.]])"
      ]
     },
     "metadata": {},
     "output_type": "display_data"
    },
    {
     "data": {
      "text/plain": [
       "array([[10., 15.,  2.],\n",
       "       [ 1.,  9., 17.],\n",
       "       [16.,  3.,  8.]])"
      ]
     },
     "metadata": {},
     "output_type": "display_data"
    },
    {
     "data": {
      "text/plain": [
       "array([[10., 14.,  3.],\n",
       "       [ 2.,  9., 16.],\n",
       "       [15.,  4.,  8.]])"
      ]
     },
     "metadata": {},
     "output_type": "display_data"
    },
    {
     "data": {
      "text/plain": [
       "array([[10., 13.,  4.],\n",
       "       [ 3.,  9., 15.],\n",
       "       [14.,  5.,  8.]])"
      ]
     },
     "metadata": {},
     "output_type": "display_data"
    },
    {
     "data": {
      "text/plain": [
       "array([[10., 12.,  5.],\n",
       "       [ 4.,  9., 14.],\n",
       "       [13.,  6.,  8.]])"
      ]
     },
     "metadata": {},
     "output_type": "display_data"
    },
    {
     "data": {
      "text/plain": [
       "array([[10., 11.,  6.],\n",
       "       [ 5.,  9., 13.],\n",
       "       [12.,  7.,  8.]])"
      ]
     },
     "metadata": {},
     "output_type": "display_data"
    },
    {
     "data": {
      "text/plain": [
       "array([[10., 10.,  7.],\n",
       "       [ 6.,  9., 12.],\n",
       "       [11.,  8.,  8.]])"
      ]
     },
     "metadata": {},
     "output_type": "display_data"
    },
    {
     "data": {
      "text/plain": [
       "array([[10.,  6., 11.],\n",
       "       [10.,  9.,  8.],\n",
       "       [ 7., 12.,  8.]])"
      ]
     },
     "metadata": {},
     "output_type": "display_data"
    },
    {
     "data": {
      "text/plain": [
       "array([[10.,  5., 12.],\n",
       "       [11.,  9.,  7.],\n",
       "       [ 6., 13.,  8.]])"
      ]
     },
     "metadata": {},
     "output_type": "display_data"
    },
    {
     "data": {
      "text/plain": [
       "array([[10.,  4., 13.],\n",
       "       [12.,  9.,  6.],\n",
       "       [ 5., 14.,  8.]])"
      ]
     },
     "metadata": {},
     "output_type": "display_data"
    },
    {
     "data": {
      "text/plain": [
       "array([[10.,  3., 14.],\n",
       "       [13.,  9.,  5.],\n",
       "       [ 4., 15.,  8.]])"
      ]
     },
     "metadata": {},
     "output_type": "display_data"
    },
    {
     "data": {
      "text/plain": [
       "array([[10.,  2., 15.],\n",
       "       [14.,  9.,  4.],\n",
       "       [ 3., 16.,  8.]])"
      ]
     },
     "metadata": {},
     "output_type": "display_data"
    },
    {
     "data": {
      "text/plain": [
       "array([[10.,  1., 16.],\n",
       "       [15.,  9.,  3.],\n",
       "       [ 2., 17.,  8.]])"
      ]
     },
     "metadata": {},
     "output_type": "display_data"
    },
    {
     "data": {
      "text/plain": [
       "array([[11., 13.,  3.],\n",
       "       [ 1.,  9., 17.],\n",
       "       [15.,  5.,  7.]])"
      ]
     },
     "metadata": {},
     "output_type": "display_data"
    },
    {
     "data": {
      "text/plain": [
       "array([[11., 12.,  4.],\n",
       "       [ 2.,  9., 16.],\n",
       "       [14.,  6.,  7.]])"
      ]
     },
     "metadata": {},
     "output_type": "display_data"
    },
    {
     "data": {
      "text/plain": [
       "array([[11., 11.,  5.],\n",
       "       [ 3.,  9., 15.],\n",
       "       [13.,  7.,  7.]])"
      ]
     },
     "metadata": {},
     "output_type": "display_data"
    },
    {
     "data": {
      "text/plain": [
       "array([[11., 10.,  6.],\n",
       "       [ 4.,  9., 14.],\n",
       "       [12.,  8.,  7.]])"
      ]
     },
     "metadata": {},
     "output_type": "display_data"
    },
    {
     "data": {
      "text/plain": [
       "array([[11.,  8.,  8.],\n",
       "       [ 6.,  9., 12.],\n",
       "       [10., 10.,  7.]])"
      ]
     },
     "metadata": {},
     "output_type": "display_data"
    },
    {
     "data": {
      "text/plain": [
       "array([[11.,  6., 10.],\n",
       "       [ 8.,  9., 10.],\n",
       "       [ 8., 12.,  7.]])"
      ]
     },
     "metadata": {},
     "output_type": "display_data"
    },
    {
     "data": {
      "text/plain": [
       "array([[11.,  4., 12.],\n",
       "       [10.,  9.,  8.],\n",
       "       [ 6., 14.,  7.]])"
      ]
     },
     "metadata": {},
     "output_type": "display_data"
    },
    {
     "data": {
      "text/plain": [
       "array([[11.,  3., 13.],\n",
       "       [11.,  9.,  7.],\n",
       "       [ 5., 15.,  7.]])"
      ]
     },
     "metadata": {},
     "output_type": "display_data"
    },
    {
     "data": {
      "text/plain": [
       "array([[11.,  2., 14.],\n",
       "       [12.,  9.,  6.],\n",
       "       [ 4., 16.,  7.]])"
      ]
     },
     "metadata": {},
     "output_type": "display_data"
    },
    {
     "data": {
      "text/plain": [
       "array([[11.,  1., 15.],\n",
       "       [13.,  9.,  5.],\n",
       "       [ 3., 17.,  7.]])"
      ]
     },
     "metadata": {},
     "output_type": "display_data"
    },
    {
     "data": {
      "text/plain": [
       "array([[12., 11.,  4.],\n",
       "       [ 1.,  9., 17.],\n",
       "       [14.,  7.,  6.]])"
      ]
     },
     "metadata": {},
     "output_type": "display_data"
    },
    {
     "data": {
      "text/plain": [
       "array([[12., 10.,  5.],\n",
       "       [ 2.,  9., 16.],\n",
       "       [13.,  8.,  6.]])"
      ]
     },
     "metadata": {},
     "output_type": "display_data"
    },
    {
     "data": {
      "text/plain": [
       "array([[12.,  8.,  7.],\n",
       "       [ 4.,  9., 14.],\n",
       "       [11., 10.,  6.]])"
      ]
     },
     "metadata": {},
     "output_type": "display_data"
    },
    {
     "data": {
      "text/plain": [
       "array([[12.,  7.,  8.],\n",
       "       [ 5.,  9., 13.],\n",
       "       [10., 11.,  6.]])"
      ]
     },
     "metadata": {},
     "output_type": "display_data"
    },
    {
     "data": {
      "text/plain": [
       "array([[12.,  5., 10.],\n",
       "       [ 7.,  9., 11.],\n",
       "       [ 8., 13.,  6.]])"
      ]
     },
     "metadata": {},
     "output_type": "display_data"
    },
    {
     "data": {
      "text/plain": [
       "array([[12.,  4., 11.],\n",
       "       [ 8.,  9., 10.],\n",
       "       [ 7., 14.,  6.]])"
      ]
     },
     "metadata": {},
     "output_type": "display_data"
    },
    {
     "data": {
      "text/plain": [
       "array([[12.,  2., 13.],\n",
       "       [10.,  9.,  8.],\n",
       "       [ 5., 16.,  6.]])"
      ]
     },
     "metadata": {},
     "output_type": "display_data"
    },
    {
     "data": {
      "text/plain": [
       "array([[12.,  1., 14.],\n",
       "       [11.,  9.,  7.],\n",
       "       [ 4., 17.,  6.]])"
      ]
     },
     "metadata": {},
     "output_type": "display_data"
    },
    {
     "data": {
      "text/plain": [
       "array([[13.,  8.,  6.],\n",
       "       [ 2.,  9., 16.],\n",
       "       [12., 10.,  5.]])"
      ]
     },
     "metadata": {},
     "output_type": "display_data"
    },
    {
     "data": {
      "text/plain": [
       "array([[13.,  7.,  7.],\n",
       "       [ 3.,  9., 15.],\n",
       "       [11., 11.,  5.]])"
      ]
     },
     "metadata": {},
     "output_type": "display_data"
    },
    {
     "data": {
      "text/plain": [
       "array([[13.,  6.,  8.],\n",
       "       [ 4.,  9., 14.],\n",
       "       [10., 12.,  5.]])"
      ]
     },
     "metadata": {},
     "output_type": "display_data"
    },
    {
     "data": {
      "text/plain": [
       "array([[13.,  4., 10.],\n",
       "       [ 6.,  9., 12.],\n",
       "       [ 8., 14.,  5.]])"
      ]
     },
     "metadata": {},
     "output_type": "display_data"
    },
    {
     "data": {
      "text/plain": [
       "array([[13.,  3., 11.],\n",
       "       [ 7.,  9., 11.],\n",
       "       [ 7., 15.,  5.]])"
      ]
     },
     "metadata": {},
     "output_type": "display_data"
    },
    {
     "data": {
      "text/plain": [
       "array([[13.,  2., 12.],\n",
       "       [ 8.,  9., 10.],\n",
       "       [ 6., 16.,  5.]])"
      ]
     },
     "metadata": {},
     "output_type": "display_data"
    },
    {
     "data": {
      "text/plain": [
       "array([[14.,  7.,  6.],\n",
       "       [ 1.,  9., 17.],\n",
       "       [12., 11.,  4.]])"
      ]
     },
     "metadata": {},
     "output_type": "display_data"
    },
    {
     "data": {
      "text/plain": [
       "array([[14.,  6.,  7.],\n",
       "       [ 2.,  9., 16.],\n",
       "       [11., 12.,  4.]])"
      ]
     },
     "metadata": {},
     "output_type": "display_data"
    },
    {
     "data": {
      "text/plain": [
       "array([[14.,  5.,  8.],\n",
       "       [ 3.,  9., 15.],\n",
       "       [10., 13.,  4.]])"
      ]
     },
     "metadata": {},
     "output_type": "display_data"
    },
    {
     "data": {
      "text/plain": [
       "array([[14.,  3., 10.],\n",
       "       [ 5.,  9., 13.],\n",
       "       [ 8., 15.,  4.]])"
      ]
     },
     "metadata": {},
     "output_type": "display_data"
    },
    {
     "data": {
      "text/plain": [
       "array([[14.,  2., 11.],\n",
       "       [ 6.,  9., 12.],\n",
       "       [ 7., 16.,  4.]])"
      ]
     },
     "metadata": {},
     "output_type": "display_data"
    },
    {
     "data": {
      "text/plain": [
       "array([[14.,  1., 12.],\n",
       "       [ 7.,  9., 11.],\n",
       "       [ 6., 17.,  4.]])"
      ]
     },
     "metadata": {},
     "output_type": "display_data"
    },
    {
     "data": {
      "text/plain": [
       "array([[15.,  5.,  7.],\n",
       "       [ 1.,  9., 17.],\n",
       "       [11., 13.,  3.]])"
      ]
     },
     "metadata": {},
     "output_type": "display_data"
    },
    {
     "data": {
      "text/plain": [
       "array([[15.,  4.,  8.],\n",
       "       [ 2.,  9., 16.],\n",
       "       [10., 14.,  3.]])"
      ]
     },
     "metadata": {},
     "output_type": "display_data"
    },
    {
     "data": {
      "text/plain": [
       "array([[15.,  2., 10.],\n",
       "       [ 4.,  9., 14.],\n",
       "       [ 8., 16.,  3.]])"
      ]
     },
     "metadata": {},
     "output_type": "display_data"
    },
    {
     "data": {
      "text/plain": [
       "array([[15.,  1., 11.],\n",
       "       [ 5.,  9., 13.],\n",
       "       [ 7., 17.,  3.]])"
      ]
     },
     "metadata": {},
     "output_type": "display_data"
    },
    {
     "data": {
      "text/plain": [
       "array([[16.,  3.,  8.],\n",
       "       [ 1.,  9., 17.],\n",
       "       [10., 15.,  2.]])"
      ]
     },
     "metadata": {},
     "output_type": "display_data"
    },
    {
     "data": {
      "text/plain": [
       "array([[16.,  1., 10.],\n",
       "       [ 3.,  9., 15.],\n",
       "       [ 8., 17.,  2.]])"
      ]
     },
     "metadata": {},
     "output_type": "display_data"
    }
   ],
   "source": [
    "grid(27)"
   ]
  },
  {
   "cell_type": "code",
   "execution_count": 45,
   "metadata": {},
   "outputs": [],
   "source": [
    "def equation(A):\n",
    "    # a third \n",
    "    third = A/3\n",
    "    # list of values\n",
    "    ns = {x:0 for x in range(int(-1*third), int(2*third))}\n",
    "    positive = 0\n",
    "    negative = 0 \n",
    "\n",
    "    for n in itertools.combinations(list(ns.keys()), 2):\n",
    "        find = -1*(n[0]+n[1])\n",
    "        if find in ns.keys():\n",
    "            if find < 0: negative += 1\n",
    "            if find > 0: positive += 1\n",
    "            # print([i for i in n]+[find])\n",
    "    print(positive/negative)\n",
    "            "
   ]
  },
  {
   "cell_type": "code",
   "execution_count": 138,
   "metadata": {},
   "outputs": [],
   "source": [
    "# checking for duplicates in the list\n",
    "def dupli(As:list) -> bool:\n",
    "    for A in As:\n",
    "        if As.count(A) > 1: return True\n",
    "    return False"
   ]
  },
  {
   "cell_type": "code",
   "execution_count": 191,
   "metadata": {},
   "outputs": [
    {
     "data": {
      "text/plain": [
       "(1, 2, 3)"
      ]
     },
     "execution_count": 191,
     "metadata": {},
     "output_type": "execute_result"
    }
   ],
   "source": [
    "A = [1,2,3]\n",
    "tuple(A)"
   ]
  },
  {
   "cell_type": "code",
   "execution_count": 192,
   "metadata": {},
   "outputs": [
    {
     "name": "stdout",
     "output_type": "stream",
     "text": [
      "4\n"
     ]
    }
   ],
   "source": [
    "d = {'car':4,'bees':3}\n",
    "if 'car' in d: print(d['car'])"
   ]
  },
  {
   "cell_type": "code",
   "execution_count": 514,
   "metadata": {},
   "outputs": [],
   "source": [
    "def permutationengine(A:tuple, attempted:dict) -> None:\n",
    "    # going off the base assumption A1<A2<A3<A4\n",
    "\n",
    "    i = 0\n",
    "    # brute-forcing the equations, optimizing range selection\n",
    "    # running the \n",
    "    for A12 in range(1,A[0]):\n",
    "        # creating upper and lower bounds for A24\n",
    "        u24 = A[1]-A12\n",
    "        l24 = A[1]-A[0]-A12\n",
    "        for A24 in range(max(1,l24+1), min(A[1],u24)):\n",
    "            # upper and lower bounds for A34\n",
    "            u34 = A[3]-A24\n",
    "            l34 = A[3]-A[1]-A24\n",
    "            for A34 in range(max(1,l34+1), min(A[2],u34)):\n",
    "                # upper and lower for A13\n",
    "                u13 = A[2]-A34\n",
    "                for A13 in range(1,min(u13, A[0])):\n",
    "                    # ensuring only unique values exist\n",
    "                    current = (A12, A24, A13, A34)\n",
    "                    if dupli(current): continue\n",
    "                    \n",
    "                    # ensuring we are not attempting the same values twice\n",
    "                    if current not in attempted:\n",
    "                        attempted[current] = None\n",
    "                    else: continue\n",
    "\n",
    "                    # solving for each equation\n",
    "                    #            eq1               eq2               eq3               eq4\n",
    "                    eqs = [ A[1] - (A12+A24) , A[3] - (A34+A24) , A[2] - (A34+A13) , A[0] - (A13+A12) ]\n",
    "                    \n",
    "                    # legacy code, but rather check than be sorry\n",
    "                    # checking if equations fall in range 0 < eq_n < min(A_i, A_j) and are all unique\n",
    "                    if 0 < eqs[0] < A[0] and 0 < eqs[1] < A[1] and 0 < eqs[2] < A[2] and 0 < eqs[3] < A[0] and not dupli(eqs):\n",
    "                        # storing as {(values of A) : [(free, middle, edge), ... ]} \n",
    "                        #                   I12                 I24                 I34                 I13\n",
    "                        valideqs = [(eqs[0], A12, A24), (eqs[1], A24, A34), (eqs[2], A34, A13), (eqs[3], A13, A12)]\n",
    "                        propagate(A, valideqs)\n",
    "                    i+=1\n",
    "                    if i % 1E6 == 0: print(f\"Current A:{A}, Combinations Processed: {i}\")"
   ]
  },
  {
   "cell_type": "code",
   "execution_count": 515,
   "metadata": {},
   "outputs": [],
   "source": [
    "def propagate(A:tuple, valideqs:list):\n",
    "    # creating matrices \n",
    "    A1 = np.zeros((3,3))\n",
    "    A2 = np.zeros((3,3))\n",
    "    A3 = np.zeros((3,3))\n",
    "    A4 = np.zeros((3,3))\n",
    "\n",
    "    # assigning values from equations to matrices\n",
    "    # I12\n",
    "    A1[0,1] = valideqs[0][0]\n",
    "    A2[2,0] = valideqs[0][0]\n",
    "\n",
    "    A1[0,2] = valideqs[0][1]\n",
    "    A2[2,1] = valideqs[0][1]\n",
    "    \n",
    "    A2[2,2] = valideqs[0][2]\n",
    "    A4[1,0] = valideqs[0][2]\n",
    "\n",
    "    # I24\n",
    "    A4[0,0] = valideqs[1][0]\n",
    "    A2[1,2] = valideqs[1][0]\n",
    "    # middle has already been assigned\n",
    "    A4[2,0] = valideqs[1][2]\n",
    "    A3[0,1] = valideqs[1][2]\n",
    "\n",
    "    # I34\n",
    "    A3[0,2] = valideqs[2][0]\n",
    "    A4[2,1] = valideqs[2][0]\n",
    "    # middle has already been assigned\n",
    "    A3[0,0] = valideqs[2][2]\n",
    "    A1[1,2] = valideqs[2][2]\n",
    "    \n",
    "    # I13\n",
    "    A1[2,2] = valideqs[3][0]\n",
    "    A3[1,0] = valideqs[3][0]\n",
    "    # middle has already been assigned\n",
    "    # edge has already been assigned\n",
    "\n",
    "    # populating matrices, ensuring that all are oriented in the same direction as A1\n",
    "    Lov = {valideqs[0][0]:None,valideqs[1][0]:None,valideqs[2][0]:None,\n",
    "    valideqs[3][0]:None,valideqs[0][1]:None,valideqs[1][2]:None,\n",
    "    valideqs[2][1]:None}\n",
    "    if not populate(A[0], A1, Lov): return False\n",
    "\n",
    "    A2 = np.rot90(A2, 1) # rotating into position as A1\n",
    "    if not populate(A[1], A2, Lov): return False # populating rotated matrix\n",
    "    A2 = np.rot90(A2, -1) # rotating back\n",
    "\n",
    "    A3 = np.rot90(A3, -1) # position\n",
    "    if not populate(A[2], A3, Lov): return False # population\n",
    "    A3 = np.rot90(A3, 1) # back\n",
    "\n",
    "    A4 = np.rot90(A4, 2) # position\n",
    "    if not populate(A[3], A4, Lov): return False # population\n",
    "    A4 = np.rot90(A4, -2) # back\n",
    "    print('A4')\n",
    "    # all matricies check out, add all values to list\n",
    "    validsolution = []\n",
    "    \n",
    "    # adding row 1\n",
    "    for i in range(3):\n",
    "        validsolution.append(A2[0,i])\n",
    "\n",
    "    # adding row 2\n",
    "    for i in range(2): \n",
    "        validsolution.append(A2[1,i])\n",
    "    for i in range(3):\n",
    "        validsolution.append(A4[0,i])\n",
    "\n",
    "    # adding row 3 \n",
    "    for i in range(3):\n",
    "        validsolution.append(A1[0,i])\n",
    "    for i in range(3):\n",
    "        validsolution.append(A4[1,i])\n",
    "    \n",
    "    # adding row 4\n",
    "    for i in range(3):\n",
    "        validsolution.append(A1[1,i])\n",
    "    for i in range(3):\n",
    "        validsolution.append(A4[2,i])\n",
    "\n",
    "    # adding row 5\n",
    "    for i in range(2):\n",
    "        validsolution.append(A1[2,i])\n",
    "    for i in range(3):\n",
    "        validsolution.append(A3[1,i])\n",
    "    \n",
    "    # adding row 6\n",
    "    for i in range(3):\n",
    "        validsolution.append(A3[2,i])\n",
    "    \n",
    "    # adding all the values\n",
    "    fsum = sum(validsolution)\n",
    "\n",
    "    # if the final sum is less than 1111, save it as a .txt with the sum as the filename\n",
    "    with open(f'{fsum}.txt', 'w') as outfile:\n",
    "        for sol in validsolution:\n",
    "            outfile.write(f\"{sol},\")\n",
    "    \n",
    "    return True\n"
   ]
  },
  {
   "cell_type": "code",
   "execution_count": 516,
   "metadata": {},
   "outputs": [],
   "source": [
    "def fillsquare(A,M,coord1,coord2,pos,Lov):\n",
    "    # calculating the value for the square\n",
    "    V = int( A - (M[coord1[0],coord1[1]]+M[coord2[0],coord2[1]]) )\n",
    "    # checking if the value is in range and has not been repeated elsewhere\n",
    "    if 0 < V < A and V not in Lov:\n",
    "        M[pos[0], pos[1]] = V\n",
    "        Lov[V] = None\n",
    "        return True\n",
    "    \n",
    "    # otherwise return false\n",
    "    return False"
   ]
  },
  {
   "cell_type": "code",
   "execution_count": 517,
   "metadata": {},
   "outputs": [],
   "source": [
    "def fillsquaresubroutine(A,M,inputs,Lov,inc):\n",
    "    for v in range(len(inputs)):\n",
    "        if not fillsquare(A,M,inputs[v][0],inputs[v][1],inputs[v][2],Lov):\n",
    "            if not fillsquare(A+inc,M,inputs[v][0],inputs[v][1],inputs[v][2],Lov):\n",
    "                return False\n",
    "        else: continue\n",
    "    return True"
   ]
  },
  {
   "cell_type": "code",
   "execution_count": 518,
   "metadata": {},
   "outputs": [
    {
     "name": "stdout",
     "output_type": "stream",
     "text": [
      "Winner!\n"
     ]
    },
    {
     "data": {
      "text/plain": [
       "array([[12,  3, 12],\n",
       "       [ 8, 10,  9],\n",
       "       [ 5, 14,  5]])"
      ]
     },
     "metadata": {},
     "output_type": "display_data"
    }
   ],
   "source": [
    "# testing fillsquare\n",
    "# inputs [(val1, val2, target square)]\n",
    "inputs = [[(0,1),(0,2),(0,0)],\n",
    "        [(0,0),(2,2),(1,1)],\n",
    "        [(1,1),(1,2),(1,0)],\n",
    "        [(0,1),(1,1),(2,1)],\n",
    "        [(1,1),(0,2),(2,0)]]\n",
    "\n",
    "# of initial attempts\n",
    "A = 27 \n",
    "Lov = {}\n",
    "\n",
    "attempts = 0\n",
    "increment = 1\n",
    "while attempts < 2:\n",
    "    M = np.array([[0,3,12],\n",
    "                [0,0,9],\n",
    "                [0,0,5]])\n",
    "    if not fillsquaresubroutine(A,M,inputs,Lov,increment):\n",
    "        attempts += 1\n",
    "        increment *= -1\n",
    "        Lov = {}\n",
    "    else:\n",
    "        print('Winner!') \n",
    "        display(M)\n",
    "        break"
   ]
  },
  {
   "cell_type": "code",
   "execution_count": 519,
   "metadata": {},
   "outputs": [],
   "source": [
    "def populate(A,M,Lov):\n",
    "    # creating list of inputs\n",
    "    # inputs [(val1, val2, target square)]\n",
    "    inputs = [[(0,1),(0,2),(0,0)],\n",
    "            [(0,0),(2,2),(1,1)],\n",
    "            [(1,1),(1,2),(1,0)],\n",
    "            [(0,1),(1,1),(2,1)],\n",
    "            [(1,1),(0,2),(2,0)]]\n",
    "    \n",
    "    # of initial attempts and initial increment amount\n",
    "    attempts = 0\n",
    "    increment = 1\n",
    "    # checking for magic squares\n",
    "    while attempts < 2:\n",
    "        # if filling squares failes, attempt different A +/- 1 \n",
    "        if not fillsquaresubroutine(A,M,inputs,Lov,increment):\n",
    "            attempts += 1\n",
    "            increment *= -1\n",
    "            Lov = {}\n",
    "        else: break\n",
    "    # validating all combinations follow A, or A +/-1\n",
    "    # checking if columns follow addition rule\n",
    "    for n in range(3):\n",
    "        val = M[:,n].sum()\n",
    "        if val == A or val == A + increment:\n",
    "            continue\n",
    "        else: \n",
    "            return False\n",
    "    \n",
    "    # checking if rows follow addition rule\n",
    "    for m in range(3):\n",
    "        val = M[m,:].sum()\n",
    "        if val == A or val == A + increment:\n",
    "            continue\n",
    "        else: \n",
    "            return False\n",
    "        \n",
    "    # checking if diagonals follow addition rule\n",
    "    if M.trace() != A and M.trace() != A + increment:\n",
    "        return False\n",
    "    if np.rot90(M).trace() != A and np.rot90(M).trace() != A + increment:\n",
    "        return False\n",
    "    \n",
    "    # if all works out, then matrix is valid\n",
    "    else: return True"
   ]
  },
  {
   "cell_type": "code",
   "execution_count": 520,
   "metadata": {},
   "outputs": [
    {
     "name": "stdout",
     "output_type": "stream",
     "text": [
      "Current A:(80, 81, 82, 83), Combinations Processed: 1000000\n",
      "Current A:(80, 81, 82, 83), Combinations Processed: 2000000\n",
      "Current A:(80, 81, 82, 83), Combinations Processed: 3000000\n",
      "Current A:(80, 81, 82, 83), Combinations Processed: 4000000\n",
      "Current A:(80, 81, 82, 83), Combinations Processed: 5000000\n",
      "Current A:(80, 81, 82, 83), Combinations Processed: 6000000\n",
      "Current A:(80, 81, 82, 83), Combinations Processed: 7000000\n",
      "A values processed: 100, Current A (80, 81, 82, 182)\n",
      "A values processed: 200, Current A (80, 81, 82, 282)\n",
      "A values processed: 300, Current A (80, 81, 83, 102)\n",
      "A values processed: 400, Current A (80, 81, 83, 202)\n",
      "A values processed: 500, Current A (80, 81, 83, 302)\n",
      "A values processed: 600, Current A (80, 81, 84, 123)\n",
      "A values processed: 700, Current A (80, 81, 84, 223)\n",
      "A values processed: 800, Current A (80, 81, 84, 323)\n",
      "A values processed: 900, Current A (80, 81, 85, 145)\n",
      "A values processed: 1000, Current A (80, 81, 85, 245)\n",
      "A values processed: 1100, Current A (80, 81, 85, 345)\n",
      "A values processed: 1200, Current A (80, 81, 86, 168)\n",
      "A values processed: 1300, Current A (80, 81, 86, 268)\n",
      "A values processed: 1400, Current A (80, 81, 87, 92)\n",
      "A values processed: 1500, Current A (80, 81, 87, 192)\n",
      "A values processed: 1600, Current A (80, 81, 87, 292)\n",
      "A values processed: 1700, Current A (80, 81, 88, 117)\n",
      "A values processed: 1800, Current A (80, 81, 88, 217)\n",
      "A values processed: 1900, Current A (80, 81, 88, 317)\n",
      "A values processed: 2000, Current A (80, 81, 89, 143)\n",
      "A values processed: 2100, Current A (80, 81, 89, 243)\n",
      "A values processed: 2200, Current A (80, 81, 89, 343)\n",
      "A values processed: 2300, Current A (80, 81, 90, 170)\n",
      "A values processed: 2400, Current A (80, 81, 90, 270)\n",
      "A values processed: 2500, Current A (80, 81, 91, 98)\n",
      "A values processed: 2600, Current A (80, 81, 91, 198)\n",
      "A values processed: 2700, Current A (80, 81, 91, 298)\n",
      "A values processed: 2800, Current A (80, 81, 92, 127)\n",
      "A values processed: 2900, Current A (80, 81, 92, 227)\n",
      "A values processed: 3000, Current A (80, 81, 92, 327)\n",
      "A values processed: 3100, Current A (80, 81, 93, 157)\n",
      "A values processed: 3200, Current A (80, 81, 93, 257)\n",
      "A values processed: 3300, Current A (80, 81, 93, 357)\n",
      "A values processed: 3400, Current A (80, 81, 94, 188)\n",
      "A values processed: 3500, Current A (80, 81, 94, 288)\n",
      "A values processed: 3600, Current A (80, 81, 95, 120)\n",
      "A values processed: 3700, Current A (80, 81, 95, 220)\n",
      "A values processed: 3800, Current A (80, 81, 95, 320)\n",
      "A values processed: 3900, Current A (80, 81, 96, 153)\n",
      "A values processed: 4000, Current A (80, 81, 96, 253)\n",
      "A values processed: 4100, Current A (80, 81, 96, 353)\n",
      "A values processed: 4200, Current A (80, 81, 97, 187)\n",
      "A values processed: 4300, Current A (80, 81, 97, 287)\n",
      "A values processed: 4400, Current A (80, 81, 98, 122)\n",
      "A values processed: 4500, Current A (80, 81, 98, 222)\n",
      "A values processed: 4600, Current A (80, 81, 98, 322)\n",
      "A values processed: 4700, Current A (80, 81, 99, 158)\n",
      "A values processed: 4800, Current A (80, 81, 99, 258)\n",
      "A values processed: 4900, Current A (80, 81, 99, 358)\n",
      "A values processed: 5000, Current A (80, 81, 100, 195)\n",
      "A values processed: 5100, Current A (80, 81, 100, 295)\n",
      "A values processed: 5200, Current A (80, 81, 101, 133)\n",
      "A values processed: 5300, Current A (80, 81, 101, 233)\n",
      "A values processed: 5400, Current A (80, 81, 101, 333)\n",
      "A values processed: 5500, Current A (80, 81, 102, 172)\n",
      "A values processed: 5600, Current A (80, 81, 102, 272)\n",
      "A values processed: 5700, Current A (80, 81, 103, 112)\n",
      "A values processed: 5800, Current A (80, 81, 103, 212)\n",
      "A values processed: 5900, Current A (80, 81, 103, 312)\n",
      "A values processed: 6000, Current A (80, 81, 104, 153)\n",
      "A values processed: 6100, Current A (80, 81, 104, 253)\n",
      "A values processed: 6200, Current A (80, 81, 104, 353)\n",
      "A values processed: 6300, Current A (80, 81, 105, 195)\n",
      "A values processed: 6400, Current A (80, 81, 105, 295)\n",
      "A values processed: 6500, Current A (80, 81, 106, 138)\n",
      "A values processed: 6600, Current A (80, 81, 106, 238)\n",
      "A values processed: 6700, Current A (80, 81, 106, 338)\n",
      "A values processed: 6800, Current A (80, 81, 107, 182)\n",
      "A values processed: 6900, Current A (80, 81, 107, 282)\n",
      "A values processed: 7000, Current A (80, 81, 108, 127)\n",
      "A values processed: 7100, Current A (80, 81, 108, 227)\n",
      "A values processed: 7200, Current A (80, 81, 108, 327)\n",
      "A values processed: 7300, Current A (80, 81, 109, 173)\n",
      "A values processed: 7400, Current A (80, 81, 109, 273)\n",
      "A values processed: 7500, Current A (80, 81, 110, 120)\n",
      "A values processed: 7600, Current A (80, 81, 110, 220)\n",
      "A values processed: 7700, Current A (80, 81, 110, 320)\n",
      "A values processed: 7800, Current A (80, 81, 111, 168)\n",
      "A values processed: 7900, Current A (80, 81, 111, 268)\n",
      "A values processed: 8000, Current A (80, 81, 112, 117)\n",
      "A values processed: 8100, Current A (80, 81, 112, 217)\n",
      "A values processed: 8200, Current A (80, 81, 112, 317)\n",
      "A values processed: 8300, Current A (80, 81, 113, 167)\n",
      "A values processed: 8400, Current A (80, 81, 113, 267)\n",
      "A values processed: 8500, Current A (80, 81, 114, 118)\n",
      "A values processed: 8600, Current A (80, 81, 114, 218)\n",
      "A values processed: 8700, Current A (80, 81, 114, 318)\n",
      "A values processed: 8800, Current A (80, 81, 115, 170)\n",
      "A values processed: 8900, Current A (80, 81, 115, 270)\n",
      "A values processed: 9000, Current A (80, 81, 116, 123)\n",
      "A values processed: 9100, Current A (80, 81, 116, 223)\n",
      "A values processed: 9200, Current A (80, 81, 116, 323)\n",
      "A values processed: 9300, Current A (80, 81, 117, 177)\n",
      "A values processed: 9400, Current A (80, 81, 117, 277)\n",
      "A values processed: 9500, Current A (80, 81, 118, 132)\n",
      "A values processed: 9600, Current A (80, 81, 118, 232)\n",
      "A values processed: 9700, Current A (80, 81, 118, 332)\n",
      "A values processed: 9800, Current A (80, 81, 119, 188)\n",
      "A values processed: 9900, Current A (80, 81, 119, 288)\n",
      "A values processed: 10000, Current A (80, 81, 120, 145)\n",
      "A values processed: 10100, Current A (80, 81, 120, 245)\n",
      "A values processed: 10200, Current A (80, 81, 120, 345)\n",
      "A values processed: 10300, Current A (80, 81, 121, 203)\n",
      "A values processed: 10400, Current A (80, 81, 121, 303)\n",
      "A values processed: 10500, Current A (80, 81, 122, 162)\n",
      "A values processed: 10600, Current A (80, 81, 122, 262)\n",
      "A values processed: 10700, Current A (80, 81, 122, 362)\n",
      "A values processed: 10800, Current A (80, 81, 123, 222)\n",
      "A values processed: 10900, Current A (80, 81, 123, 322)\n",
      "A values processed: 11000, Current A (80, 81, 124, 183)\n",
      "A values processed: 11100, Current A (80, 81, 124, 283)\n",
      "A values processed: 11200, Current A (80, 81, 125, 145)\n",
      "A values processed: 11300, Current A (80, 81, 125, 245)\n",
      "A values processed: 11400, Current A (80, 81, 125, 345)\n",
      "A values processed: 11500, Current A (80, 81, 126, 208)\n",
      "A values processed: 11600, Current A (80, 81, 126, 308)\n",
      "A values processed: 11700, Current A (80, 81, 127, 172)\n",
      "A values processed: 11800, Current A (80, 81, 127, 272)\n",
      "A values processed: 11900, Current A (80, 81, 128, 137)\n",
      "A values processed: 12000, Current A (80, 81, 128, 237)\n",
      "A values processed: 12100, Current A (80, 81, 128, 337)\n",
      "A values processed: 12200, Current A (80, 81, 129, 203)\n",
      "A values processed: 12300, Current A (80, 81, 129, 303)\n",
      "A values processed: 12400, Current A (80, 81, 130, 170)\n",
      "A values processed: 12500, Current A (80, 81, 130, 270)\n",
      "A values processed: 12600, Current A (80, 81, 131, 138)\n",
      "A values processed: 12700, Current A (80, 81, 131, 238)\n",
      "A values processed: 12800, Current A (80, 81, 131, 338)\n",
      "A values processed: 12900, Current A (80, 81, 132, 207)\n",
      "A values processed: 13000, Current A (80, 81, 132, 307)\n",
      "A values processed: 13100, Current A (80, 81, 133, 177)\n",
      "A values processed: 13200, Current A (80, 81, 133, 277)\n",
      "A values processed: 13300, Current A (80, 81, 134, 148)\n",
      "A values processed: 13400, Current A (80, 81, 134, 248)\n",
      "A values processed: 13500, Current A (80, 81, 134, 348)\n",
      "A values processed: 13600, Current A (80, 81, 135, 220)\n",
      "A values processed: 13700, Current A (80, 81, 135, 320)\n",
      "A values processed: 13800, Current A (80, 81, 136, 193)\n",
      "A values processed: 13900, Current A (80, 81, 136, 293)\n",
      "A values processed: 14000, Current A (80, 81, 137, 167)\n",
      "A values processed: 14100, Current A (80, 81, 137, 267)\n",
      "A values processed: 14200, Current A (80, 81, 138, 142)\n",
      "A values processed: 14300, Current A (80, 81, 138, 242)\n",
      "A values processed: 14400, Current A (80, 81, 138, 342)\n",
      "A values processed: 14500, Current A (80, 81, 139, 218)\n",
      "A values processed: 14600, Current A (80, 81, 139, 318)\n",
      "A values processed: 14700, Current A (80, 81, 140, 195)\n",
      "A values processed: 14800, Current A (80, 81, 140, 295)\n",
      "A values processed: 14900, Current A (80, 81, 141, 173)\n",
      "A values processed: 15000, Current A (80, 81, 141, 273)\n",
      "A values processed: 15100, Current A (80, 81, 142, 152)\n",
      "A values processed: 15200, Current A (80, 81, 142, 252)\n",
      "A values processed: 15300, Current A (80, 81, 142, 352)\n",
      "A values processed: 15400, Current A (80, 81, 143, 232)\n",
      "A values processed: 15500, Current A (80, 81, 143, 332)\n",
      "A values processed: 15600, Current A (80, 81, 144, 213)\n",
      "A values processed: 15700, Current A (80, 81, 144, 313)\n",
      "A values processed: 15800, Current A (80, 81, 145, 195)\n",
      "A values processed: 15900, Current A (80, 81, 145, 295)\n",
      "A values processed: 16000, Current A (80, 81, 146, 178)\n",
      "A values processed: 16100, Current A (80, 81, 146, 278)\n",
      "A values processed: 16200, Current A (80, 81, 147, 162)\n",
      "A values processed: 16300, Current A (80, 81, 147, 262)\n",
      "A values processed: 16400, Current A (80, 81, 147, 362)\n",
      "A values processed: 16500, Current A (80, 81, 148, 247)\n",
      "A values processed: 16600, Current A (80, 81, 148, 347)\n",
      "A values processed: 16700, Current A (80, 81, 149, 233)\n",
      "A values processed: 16800, Current A (80, 81, 149, 333)\n",
      "A values processed: 16900, Current A (80, 81, 150, 220)\n",
      "A values processed: 17000, Current A (80, 81, 150, 320)\n",
      "A values processed: 17100, Current A (80, 81, 151, 208)\n",
      "A values processed: 17200, Current A (80, 81, 151, 308)\n",
      "A values processed: 17300, Current A (80, 81, 152, 197)\n",
      "A values processed: 17400, Current A (80, 81, 152, 297)\n",
      "A values processed: 17500, Current A (80, 81, 153, 187)\n",
      "A values processed: 17600, Current A (80, 81, 153, 287)\n",
      "A values processed: 17700, Current A (80, 81, 154, 178)\n",
      "A values processed: 17800, Current A (80, 81, 154, 278)\n",
      "A values processed: 17900, Current A (80, 81, 155, 170)\n",
      "A values processed: 18000, Current A (80, 81, 155, 270)\n",
      "A values processed: 18100, Current A (80, 81, 156, 163)\n",
      "A values processed: 18200, Current A (80, 81, 156, 263)\n",
      "A values processed: 18300, Current A (80, 81, 156, 363)\n",
      "A values processed: 18400, Current A (80, 81, 157, 257)\n",
      "A values processed: 18500, Current A (80, 81, 157, 357)\n",
      "A values processed: 18600, Current A (80, 81, 158, 252)\n",
      "A values processed: 18700, Current A (80, 81, 158, 352)\n",
      "A values processed: 18800, Current A (80, 81, 159, 248)\n",
      "A values processed: 18900, Current A (80, 81, 159, 348)\n",
      "A values processed: 19000, Current A (80, 81, 160, 245)\n",
      "A values processed: 19100, Current A (80, 81, 160, 345)\n",
      "A values processed: 19200, Current A (80, 81, 161, 243)\n",
      "A values processed: 19300, Current A (80, 81, 161, 343)\n",
      "A values processed: 19400, Current A (80, 81, 162, 242)\n",
      "A values processed: 19500, Current A (80, 81, 162, 342)\n",
      "A values processed: 19600, Current A (80, 81, 163, 242)\n",
      "A values processed: 19700, Current A (80, 81, 163, 342)\n",
      "A values processed: 19800, Current A (80, 81, 164, 243)\n",
      "A values processed: 19900, Current A (80, 81, 164, 343)\n",
      "A values processed: 20000, Current A (80, 81, 165, 245)\n",
      "A values processed: 20100, Current A (80, 81, 165, 345)\n",
      "A values processed: 20200, Current A (80, 81, 166, 248)\n",
      "A values processed: 20300, Current A (80, 81, 166, 348)\n",
      "A values processed: 20400, Current A (80, 81, 167, 252)\n",
      "A values processed: 20500, Current A (80, 81, 167, 352)\n",
      "A values processed: 20600, Current A (80, 81, 168, 257)\n",
      "A values processed: 20700, Current A (80, 81, 168, 357)\n",
      "A values processed: 20800, Current A (80, 81, 169, 263)\n",
      "A values processed: 20900, Current A (80, 81, 169, 363)\n",
      "A values processed: 21000, Current A (80, 81, 170, 270)\n",
      "A values processed: 21100, Current A (80, 81, 171, 178)\n",
      "A values processed: 21200, Current A (80, 81, 171, 278)\n",
      "A values processed: 21300, Current A (80, 81, 172, 187)\n",
      "A values processed: 21400, Current A (80, 81, 172, 287)\n",
      "A values processed: 21500, Current A (80, 81, 173, 197)\n",
      "A values processed: 21600, Current A (80, 81, 173, 297)\n",
      "A values processed: 21700, Current A (80, 81, 174, 208)\n",
      "A values processed: 21800, Current A (80, 81, 174, 308)\n",
      "A values processed: 21900, Current A (80, 81, 175, 220)\n",
      "A values processed: 22000, Current A (80, 81, 175, 320)\n",
      "A values processed: 22100, Current A (80, 81, 176, 233)\n",
      "A values processed: 22200, Current A (80, 81, 176, 333)\n",
      "A values processed: 22300, Current A (80, 81, 177, 247)\n",
      "A values processed: 22400, Current A (80, 81, 177, 347)\n",
      "A values processed: 22500, Current A (80, 81, 178, 262)\n",
      "A values processed: 22600, Current A (80, 81, 178, 362)\n",
      "A values processed: 22700, Current A (80, 81, 179, 278)\n",
      "A values processed: 22800, Current A (80, 81, 180, 195)\n",
      "A values processed: 22900, Current A (80, 81, 180, 295)\n",
      "A values processed: 23000, Current A (80, 81, 181, 213)\n",
      "A values processed: 23100, Current A (80, 81, 181, 313)\n",
      "A values processed: 23200, Current A (80, 81, 182, 232)\n",
      "A values processed: 23300, Current A (80, 81, 182, 332)\n",
      "A values processed: 23400, Current A (80, 81, 183, 252)\n",
      "A values processed: 23500, Current A (80, 81, 183, 352)\n",
      "A values processed: 23600, Current A (80, 81, 184, 273)\n",
      "A values processed: 23700, Current A (80, 81, 185, 195)\n",
      "A values processed: 23800, Current A (80, 81, 185, 295)\n",
      "A values processed: 23900, Current A (80, 81, 186, 218)\n",
      "A values processed: 24000, Current A (80, 81, 186, 318)\n",
      "A values processed: 24100, Current A (80, 81, 187, 242)\n",
      "A values processed: 24200, Current A (80, 81, 187, 342)\n",
      "A values processed: 24300, Current A (80, 81, 188, 267)\n",
      "A values processed: 24400, Current A (80, 81, 189, 193)\n",
      "A values processed: 24500, Current A (80, 81, 189, 293)\n",
      "A values processed: 24600, Current A (80, 81, 190, 220)\n",
      "A values processed: 24700, Current A (80, 81, 190, 320)\n",
      "A values processed: 24800, Current A (80, 81, 191, 248)\n",
      "A values processed: 24900, Current A (80, 81, 191, 348)\n",
      "A values processed: 25000, Current A (80, 81, 192, 277)\n",
      "A values processed: 25100, Current A (80, 81, 193, 207)\n"
     ]
    },
    {
     "ename": "KeyboardInterrupt",
     "evalue": "",
     "output_type": "error",
     "traceback": [
      "\u001b[1;31m---------------------------------------------------------------------------\u001b[0m",
      "\u001b[1;31mKeyboardInterrupt\u001b[0m                         Traceback (most recent call last)",
      "\u001b[1;32m<ipython-input-520-eac9554f9294>\u001b[0m in \u001b[0;36m<module>\u001b[1;34m\u001b[0m\n\u001b[0;32m      7\u001b[0m \u001b[1;32mfor\u001b[0m \u001b[0mA\u001b[0m \u001b[1;32min\u001b[0m \u001b[0mitertools\u001b[0m\u001b[1;33m.\u001b[0m\u001b[0mcombinations\u001b[0m\u001b[1;33m(\u001b[0m\u001b[0mrange\u001b[0m\u001b[1;33m(\u001b[0m\u001b[1;36m80\u001b[0m\u001b[1;33m,\u001b[0m\u001b[1;36m364\u001b[0m\u001b[1;33m)\u001b[0m\u001b[1;33m,\u001b[0m \u001b[1;36m4\u001b[0m\u001b[1;33m)\u001b[0m\u001b[1;33m:\u001b[0m\u001b[1;33m\u001b[0m\u001b[1;33m\u001b[0m\u001b[0m\n\u001b[0;32m      8\u001b[0m     \u001b[1;31m# running the permutation engine for each combination of A's\u001b[0m\u001b[1;33m\u001b[0m\u001b[1;33m\u001b[0m\u001b[1;33m\u001b[0m\u001b[0m\n\u001b[1;32m----> 9\u001b[1;33m     \u001b[0mpermutationengine\u001b[0m\u001b[1;33m(\u001b[0m\u001b[0mA\u001b[0m\u001b[1;33m,\u001b[0m \u001b[0mattempted\u001b[0m\u001b[1;33m)\u001b[0m\u001b[1;33m\u001b[0m\u001b[1;33m\u001b[0m\u001b[0m\n\u001b[0m\u001b[0;32m     10\u001b[0m \u001b[1;33m\u001b[0m\u001b[0m\n\u001b[0;32m     11\u001b[0m     \u001b[1;31m# keeping track of the number of combinations\u001b[0m\u001b[1;33m\u001b[0m\u001b[1;33m\u001b[0m\u001b[1;33m\u001b[0m\u001b[0m\n",
      "\u001b[1;32m<ipython-input-514-ada2862c1356>\u001b[0m in \u001b[0;36mpermutationengine\u001b[1;34m(A, attempted)\u001b[0m\n\u001b[0;32m     19\u001b[0m                     \u001b[1;31m# ensuring only unique values exist\u001b[0m\u001b[1;33m\u001b[0m\u001b[1;33m\u001b[0m\u001b[1;33m\u001b[0m\u001b[0m\n\u001b[0;32m     20\u001b[0m                     \u001b[0mcurrent\u001b[0m \u001b[1;33m=\u001b[0m \u001b[1;33m(\u001b[0m\u001b[0mA12\u001b[0m\u001b[1;33m,\u001b[0m \u001b[0mA24\u001b[0m\u001b[1;33m,\u001b[0m \u001b[0mA13\u001b[0m\u001b[1;33m,\u001b[0m \u001b[0mA34\u001b[0m\u001b[1;33m)\u001b[0m\u001b[1;33m\u001b[0m\u001b[1;33m\u001b[0m\u001b[0m\n\u001b[1;32m---> 21\u001b[1;33m                     \u001b[1;32mif\u001b[0m \u001b[0mdupli\u001b[0m\u001b[1;33m(\u001b[0m\u001b[0mcurrent\u001b[0m\u001b[1;33m)\u001b[0m\u001b[1;33m:\u001b[0m \u001b[1;32mcontinue\u001b[0m\u001b[1;33m\u001b[0m\u001b[1;33m\u001b[0m\u001b[0m\n\u001b[0m\u001b[0;32m     22\u001b[0m \u001b[1;33m\u001b[0m\u001b[0m\n\u001b[0;32m     23\u001b[0m                     \u001b[1;31m# ensuring we are not attempting the same values twice\u001b[0m\u001b[1;33m\u001b[0m\u001b[1;33m\u001b[0m\u001b[1;33m\u001b[0m\u001b[0m\n",
      "\u001b[1;32m<ipython-input-138-726459d37cee>\u001b[0m in \u001b[0;36mdupli\u001b[1;34m(As)\u001b[0m\n\u001b[0;32m      2\u001b[0m \u001b[1;32mdef\u001b[0m \u001b[0mdupli\u001b[0m\u001b[1;33m(\u001b[0m\u001b[0mAs\u001b[0m\u001b[1;33m:\u001b[0m\u001b[0mlist\u001b[0m\u001b[1;33m)\u001b[0m \u001b[1;33m->\u001b[0m \u001b[0mbool\u001b[0m\u001b[1;33m:\u001b[0m\u001b[1;33m\u001b[0m\u001b[1;33m\u001b[0m\u001b[0m\n\u001b[0;32m      3\u001b[0m     \u001b[1;32mfor\u001b[0m \u001b[0mA\u001b[0m \u001b[1;32min\u001b[0m \u001b[0mAs\u001b[0m\u001b[1;33m:\u001b[0m\u001b[1;33m\u001b[0m\u001b[1;33m\u001b[0m\u001b[0m\n\u001b[1;32m----> 4\u001b[1;33m         \u001b[1;32mif\u001b[0m \u001b[0mAs\u001b[0m\u001b[1;33m.\u001b[0m\u001b[0mcount\u001b[0m\u001b[1;33m(\u001b[0m\u001b[0mA\u001b[0m\u001b[1;33m)\u001b[0m \u001b[1;33m>\u001b[0m \u001b[1;36m1\u001b[0m\u001b[1;33m:\u001b[0m \u001b[1;32mreturn\u001b[0m \u001b[1;32mTrue\u001b[0m\u001b[1;33m\u001b[0m\u001b[1;33m\u001b[0m\u001b[0m\n\u001b[0m\u001b[0;32m      5\u001b[0m     \u001b[1;32mreturn\u001b[0m \u001b[1;32mFalse\u001b[0m\u001b[1;33m\u001b[0m\u001b[1;33m\u001b[0m\u001b[0m\n",
      "\u001b[1;31mKeyboardInterrupt\u001b[0m: "
     ]
    }
   ],
   "source": [
    "import itertools\n",
    "import numpy as np\n",
    "\n",
    "# program takes baseline 3m 22s to run\n",
    "i = 0\n",
    "attempted = {}\n",
    "for A in itertools.combinations(range(80,364), 4):\n",
    "    # running the permutation engine for each combination of A's\n",
    "    permutationengine(A, attempted)\n",
    "    \n",
    "    # keeping track of the number of combinations\n",
    "    i += 1\n",
    "    if i % 100 == 0: print(f\"A values processed: {i}, Current A {A}\")"
   ]
  }
 ],
 "metadata": {
  "interpreter": {
   "hash": "5350ad1cc9023786ec4d02309ed412f8cfbc5bc284127c5b79b7289fa466992b"
  },
  "kernelspec": {
   "display_name": "Python 3.9.4 64-bit",
   "language": "python",
   "name": "python3"
  },
  "language_info": {
   "codemirror_mode": {
    "name": "ipython",
    "version": 3
   },
   "file_extension": ".py",
   "mimetype": "text/x-python",
   "name": "python",
   "nbconvert_exporter": "python",
   "pygments_lexer": "ipython3",
   "version": "3.9.4"
  },
  "orig_nbformat": 4
 },
 "nbformat": 4,
 "nbformat_minor": 2
}
